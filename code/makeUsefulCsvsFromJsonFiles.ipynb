{
 "cells": [
  {
   "cell_type": "markdown",
   "metadata": {},
   "source": [
    "Zeroth: imports"
   ]
  },
  {
   "cell_type": "code",
   "execution_count": 1,
   "metadata": {},
   "outputs": [],
   "source": [
    "import os\n",
    "import json\n",
    "import csv"
   ]
  },
  {
   "cell_type": "markdown",
   "metadata": {},
   "source": [
    "First: get lists of all json filenames"
   ]
  },
  {
   "cell_type": "code",
   "execution_count": 2,
   "metadata": {},
   "outputs": [],
   "source": [
    "path_to_activities_files = '../input/activities/'\n",
    "path_to_sleep_files = '../input/sleep/'\n",
    "\n",
    "list_of_activities_file_names = os.listdir(path_to_activities_files)\n",
    "list_of_sleep_file_names = os.listdir(path_to_sleep_files)"
   ]
  },
  {
   "cell_type": "markdown",
   "metadata": {},
   "source": [
    "Second: sort the file name lists"
   ]
  },
  {
   "cell_type": "code",
   "execution_count": 3,
   "metadata": {},
   "outputs": [],
   "source": [
    "list_of_activities_file_names.sort()\n",
    "list_of_sleep_file_names.sort()"
   ]
  },
  {
   "cell_type": "markdown",
   "metadata": {},
   "source": [
    "Third: get json objects of all json strings in all files, saved in tuples with the filename (to keep the date)"
   ]
  },
  {
   "cell_type": "code",
   "execution_count": 4,
   "metadata": {},
   "outputs": [],
   "source": [
    "def get_json_object(path, name):\n",
    "    file = open(path+name, 'r')\n",
    "    json_object = json.loads(file.read())\n",
    "    file.close()\n",
    "    return json_object\n",
    "\n",
    "list_of_activities_json_objects = []\n",
    "for filename in list_of_activities_file_names:\n",
    "    list_of_activities_json_objects.append((filename.replace('.json',''), get_json_object(path_to_activities_files, filename)))\n",
    "\n",
    "list_of_sleep_json_objects = []\n",
    "for filename in list_of_sleep_file_names:\n",
    "    list_of_sleep_json_objects.append((filename.replace('.json', ''), get_json_object(path_to_sleep_files, filename)))"
   ]
  },
  {
   "cell_type": "markdown",
   "metadata": {},
   "source": [
    "Fourth: create list of column headers for CSV file"
   ]
  },
  {
   "cell_type": "code",
   "execution_count": 5,
   "metadata": {},
   "outputs": [],
   "source": [
    "column_headers = ['date', 'totalMinutesAsleep', 'totalSleepRecords', 'totalTimeInBed', 'steps', 'lightlyActiveMinutes', 'fairlyActiveMinutes', 'veryActiveMinutes', 'caloriesOut', 'activityCalories', 'caloriesBMR', 'marginalCalories', 'totalDistance', 'veryActiveDistance', 'moderatelyActiveDistance', 'lightlyActiveDistance', 'elevation', 'floors', 'restingHeartRate', 'heartRateZoneOutOfRangeMinutes', 'heartRateZoneOutOfRangeCaloriesOut', 'heartRateZoneFatBurnMinutes', 'heartRateZoneFatBurnCaloriesOut', 'heartRateZoneCardioMinutes', 'heartRateZoneCardioCaloriesOut', 'heartRateZonePeakMinutes', 'heartRateZonePeakCaloriesOut']"
   ]
  },
  {
   "cell_type": "markdown",
   "metadata": {},
   "source": [
    "Fifth: create 2D lists of data for CSV file.\n",
    "\n",
    "Remember that the sleep on day n, comes after the activity on day n-1, and before the activity on day n+1, so the sleep records should be shifted back a day, so that they are listed alongside the activity most directly reponsible for them.\n",
    "\n",
    "On days where only partial data was recorded, the fitbit API doesn't include the heart rate data at all, instead of just leaving it as 0. That's annoying but I've dealt with it. "
   ]
  },
  {
   "cell_type": "code",
   "execution_count": 6,
   "metadata": {},
   "outputs": [
    {
     "name": "stdout",
     "output_type": "stream",
     "text": [
      "KeyError from restingHeartRate on 8\n",
      "KeyError from restingHeartRate on 9\n",
      "KeyError from out of range minutes on 9\n",
      "KeyError from out of range calories out on 9\n",
      "KeyError from fat burn minutes on 9\n",
      "KeyError from fat burn calories out on 9\n",
      "KeyError from cardio minutes on 9\n",
      "KeyError from cardio calories out on 9\n",
      "KeyError from peak minutes on 9\n",
      "KeyError from peak calories out on 9\n",
      "KeyError from restingHeartRate on 10\n",
      "KeyError from out of range minutes on 10\n",
      "KeyError from out of range calories out on 10\n",
      "KeyError from fat burn minutes on 10\n",
      "KeyError from fat burn calories out on 10\n",
      "KeyError from cardio minutes on 10\n",
      "KeyError from cardio calories out on 10\n",
      "KeyError from peak minutes on 10\n",
      "KeyError from peak calories out on 10\n",
      "KeyError from restingHeartRate on 115\n",
      "KeyError from out of range minutes on 115\n",
      "KeyError from out of range calories out on 115\n",
      "KeyError from fat burn minutes on 115\n",
      "KeyError from fat burn calories out on 115\n",
      "KeyError from cardio minutes on 115\n",
      "KeyError from cardio calories out on 115\n",
      "KeyError from peak minutes on 115\n",
      "KeyError from peak calories out on 115\n",
      "KeyError from restingHeartRate on 116\n",
      "KeyError from out of range minutes on 116\n",
      "KeyError from out of range calories out on 116\n",
      "KeyError from fat burn minutes on 116\n",
      "KeyError from fat burn calories out on 116\n",
      "KeyError from cardio minutes on 116\n",
      "KeyError from cardio calories out on 116\n",
      "KeyError from peak minutes on 116\n",
      "KeyError from peak calories out on 116\n",
      "KeyError from restingHeartRate on 117\n",
      "KeyError from restingHeartRate on 429\n"
     ]
    }
   ],
   "source": [
    "data_for_csv = []\n",
    "for i in range(446):\n",
    "    row_data = []\n",
    "    row_data.append(list_of_activities_json_objects[i][0].replace('activities_date_',''))\n",
    "    sleep_json = list_of_sleep_json_objects[i+1][1]\n",
    "    row_data.append(sleep_json['summary']['totalMinutesAsleep'])\n",
    "    row_data.append(sleep_json['summary']['totalSleepRecords'])\n",
    "    row_data.append(sleep_json['summary']['totalTimeInBed'])\n",
    "    activity_json = list_of_activities_json_objects[i][1]\n",
    "    row_data.append(activity_json['summary']['steps'])\n",
    "    row_data.append(activity_json['summary']['lightlyActiveMinutes'])\n",
    "    row_data.append(activity_json['summary']['fairlyActiveMinutes'])\n",
    "    row_data.append(activity_json['summary']['veryActiveMinutes'])\n",
    "    row_data.append(activity_json['summary']['caloriesOut'])\n",
    "    row_data.append(activity_json['summary']['activityCalories'])\n",
    "    row_data.append(activity_json['summary']['caloriesBMR'])\n",
    "    row_data.append(activity_json['summary']['marginalCalories'])\n",
    "    row_data.append(activity_json['summary']['distances'][0]['distance']) # totalDistance\n",
    "    row_data.append(activity_json['summary']['distances'][3]['distance']) # veryActiveDistance\n",
    "    row_data.append(activity_json['summary']['distances'][4]['distance']) # moderatelyActiveDistance\n",
    "    row_data.append(activity_json['summary']['distances'][5]['distance']) # lightlyActiveDistance\n",
    "    row_data.append(activity_json['summary']['elevation'])\n",
    "    row_data.append(activity_json['summary']['floors'])\n",
    "    try:\n",
    "        row_data.append(activity_json['summary']['restingHeartRate'])\n",
    "    except KeyError:\n",
    "        print(\"KeyError from restingHeartRate on \" + str(i))\n",
    "        row_data.append(0)\n",
    "    try:\n",
    "        row_data.append(activity_json['summary']['heartRateZones'][0]['minutes'])  # heartRateZoneOutOfRangeMinutes\n",
    "    except KeyError:\n",
    "        print(\"KeyError from out of range minutes on \" + str(i))\n",
    "        row_data.append(0)\n",
    "    try:\n",
    "        row_data.append(activity_json['summary']['heartRateZones'][0]['caloriesOut'])  # heartRateZoneOutOfRangeCaloriesOut\n",
    "    except KeyError:\n",
    "        print(\"KeyError from out of range calories out on \" + str(i))\n",
    "        row_data.append(0)\n",
    "    try:\n",
    "        row_data.append(activity_json['summary']['heartRateZones'][1]['minutes'])  # heartRateZoneFatBurnMinutes\n",
    "    except KeyError:\n",
    "        print(\"KeyError from fat burn minutes on \" + str(i))\n",
    "        row_data.append(0)\n",
    "    try:\n",
    "        row_data.append(activity_json['summary']['heartRateZones'][1]['caloriesOut'])  # heartRateZoneFatBurnCaloriesOut\n",
    "    except KeyError:\n",
    "        print(\"KeyError from fat burn calories out on \" + str(i))\n",
    "        row_data.append(0)\n",
    "    try:\n",
    "        row_data.append(activity_json['summary']['heartRateZones'][2]['minutes'])  # heartRateZoneCardioMinutes\n",
    "    except KeyError:\n",
    "        print(\"KeyError from cardio minutes on \" + str(i))\n",
    "        row_data.append(0)\n",
    "    try:\n",
    "        row_data.append(activity_json['summary']['heartRateZones'][2]['caloriesOut'])  # heartRateZoneCardioCaloriesOut\n",
    "    except KeyError:\n",
    "        print(\"KeyError from cardio calories out on \" + str(i))\n",
    "        row_data.append(0)\n",
    "    try:\n",
    "        row_data.append(activity_json['summary']['heartRateZones'][3]['minutes'])  # heartRateZonePeakMinutes\n",
    "    except KeyError:\n",
    "        print(\"KeyError from peak minutes on \" + str(i))\n",
    "        row_data.append(0)\n",
    "    try:\n",
    "        row_data.append(activity_json['summary']['heartRateZones'][3]['caloriesOut'])  # heartRateZonePeakCaloriesOut\n",
    "    except KeyError:\n",
    "        print(\"KeyError from peak calories out on \" + str(i))\n",
    "        row_data.append(0)\n",
    "    data_for_csv.append(row_data)"
   ]
  },
  {
   "cell_type": "markdown",
   "metadata": {},
   "source": [
    "Sixth: write 2D lists of data to disk as CSV file"
   ]
  },
  {
   "cell_type": "code",
   "execution_count": 7,
   "metadata": {},
   "outputs": [
    {
     "name": "stdout",
     "output_type": "stream",
     "text": [
      "Done\n"
     ]
    }
   ],
   "source": [
    "outputFile = open('../input/dataInCsvFormat/fitbitDatav1.csv', 'w')\n",
    "outputWriter = csv.writer(outputFile)\n",
    "outputWriter.writerow(column_headers)\n",
    "for i in range(len(data_for_csv)):\n",
    "    outputWriter.writerow(data_for_csv[i])\n",
    "outputFile.close()\n",
    "print(\"Done\")"
   ]
  }
 ],
 "metadata": {
  "kernelspec": {
   "display_name": "Python 3",
   "language": "python",
   "name": "python3"
  },
  "language_info": {
   "codemirror_mode": {
    "name": "ipython",
    "version": 3
   },
   "file_extension": ".py",
   "mimetype": "text/x-python",
   "name": "python",
   "nbconvert_exporter": "python",
   "pygments_lexer": "ipython3",
   "version": "3.6.5"
  }
 },
 "nbformat": 4,
 "nbformat_minor": 2
}
